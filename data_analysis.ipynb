{
 "cells": [
  {
   "cell_type": "code",
   "execution_count": 1,
   "id": "968ded46-142c-4640-be70-c0b87e801897",
   "metadata": {},
   "outputs": [],
   "source": [
    "import os\n",
    "import re\n",
    "import numpy as np\n",
    "import pandas as pd"
   ]
  },
  {
   "cell_type": "code",
   "execution_count": 2,
   "id": "31b90ebe-0103-40b6-a0c9-89e12424d62a",
   "metadata": {},
   "outputs": [],
   "source": [
    "path = \"/Users/wuyan/Desktop/IE 8000 Human Factor Engineerings/data analysis/data/\""
   ]
  },
  {
   "cell_type": "code",
   "execution_count": 29,
   "id": "637eee66-e0ce-4b7b-85d6-a3c48c720cf4",
   "metadata": {},
   "outputs": [],
   "source": [
    "all_data = []\n",
    "\n",
    "files = os.listdir(path)\n",
    "\n",
    "for file in files:\n",
    "\n",
    "    if file.startswith('.'):\n",
    "        continue\n",
    "\n",
    "    #print(file)\n",
    "    \n",
    "    file_path = os.path.join(path, file)\n",
    "    \n",
    "    with open(file_path, 'r') as f:\n",
    "\n",
    "        current_data = []\n",
    "        \n",
    "        lines = f.readlines()\n",
    "        \n",
    "        for i, line in enumerate(lines):\n",
    "\n",
    "            if i % 3 == 0: \n",
    "\n",
    "                processed_line = line.replace('[','').replace(']','').replace(' ','').replace(',','').replace('\"','')\n",
    "\n",
    "            elif (i - 1) % 3 == 0:\n",
    "\n",
    "                processed_line = line.replace(' ','')\n",
    "\n",
    "            else:\n",
    "\n",
    "                continue\n",
    "\n",
    "            current_data.append(processed_line.strip())\n",
    "        \n",
    "        #print(len(current_data))\n",
    "            \n",
    "        all_data.append(current_data)\n",
    "\n",
    "#print(all_data)           \n",
    "            "
   ]
  },
  {
   "cell_type": "code",
   "execution_count": 30,
   "id": "bf1c097a-0bd5-49e6-b875-77b30b28c21e",
   "metadata": {},
   "outputs": [],
   "source": [
    "def count_matches(str1, str2):\n",
    "    return sum(1 for a, b in zip(str1, str2) if a == b) "
   ]
  },
  {
   "cell_type": "code",
   "execution_count": 31,
   "id": "e8b5a1c6-20f8-4b46-b4dc-9cc424c1d2e2",
   "metadata": {},
   "outputs": [],
   "source": [
    "all_matches = []\n",
    "\n",
    "for inner_list in all_data:\n",
    "    \n",
    "    current_matches = []\n",
    "\n",
    "    for i in range(0, len(inner_list), 2):\n",
    "\n",
    "        if i+1 < len(inner_list):\n",
    "\n",
    "            count = count_matches(inner_list[i], inner_list[i+1])\n",
    "\n",
    "            current_matches.append(count)\n",
    "    all_matches.append(current_matches)\n",
    "    "
   ]
  },
  {
   "cell_type": "code",
   "execution_count": null,
   "id": "95b9a0b2-3fb8-4c15-95a1-55f3c6a02f00",
   "metadata": {},
   "outputs": [],
   "source": []
  },
  {
   "cell_type": "code",
   "execution_count": 72,
   "id": "2caf410f-8fe7-4ba2-bc93-b1ff83438b29",
   "metadata": {},
   "outputs": [],
   "source": [
    "#print(all_matches)"
   ]
  },
  {
   "cell_type": "code",
   "execution_count": 45,
   "id": "692042da-a86d-4eb8-87d3-eb3d18aba68a",
   "metadata": {},
   "outputs": [],
   "source": [
    "Exp_1 = [inner_list[:12] for inner_list in all_matches]\n",
    "Exp_2 = [inner_list[12:24] for inner_list in all_matches]\n",
    "Exp_3 = [inner_list[24:] for inner_list in all_matches]"
   ]
  },
  {
   "cell_type": "code",
   "execution_count": 73,
   "id": "fff33432-b099-4f53-b1f0-0778e5a5671e",
   "metadata": {},
   "outputs": [],
   "source": [
    "#print(Exp_1)"
   ]
  },
  {
   "cell_type": "code",
   "execution_count": 74,
   "id": "cfa20407-8f3c-446b-b0fb-385bb87eb80a",
   "metadata": {},
   "outputs": [],
   "source": [
    "# Exp_1_12set = [inner_list[i] for inner_list in Exp_1 for i in [0, 3, 7]]\n",
    "# print(Exp_1_12set)"
   ]
  },
  {
   "cell_type": "code",
   "execution_count": 75,
   "id": "d80b5cce-e66e-4a64-a8ca-26f2ab550c89",
   "metadata": {},
   "outputs": [],
   "source": [
    "# Exp_1_2set = [inner_list[i] for inner_list in Exp_1 for i in [1, 6, 10]]\n",
    "# print(Exp_1_2set)"
   ]
  },
  {
   "cell_type": "code",
   "execution_count": 76,
   "id": "385c8f6a-9454-41cf-91d6-3380a2c1624a",
   "metadata": {},
   "outputs": [],
   "source": [
    "# Exp_1_3set = [inner_list[i] for inner_list in Exp_1 for i in [2, 5, 8]]\n",
    "# print(Exp_1_3set)"
   ]
  },
  {
   "cell_type": "code",
   "execution_count": 77,
   "id": "77c8db20-2a45-4c97-8ea4-1b0cc24356ef",
   "metadata": {},
   "outputs": [],
   "source": [
    "# Exp_1_4set = [inner_list[i] for inner_list in Exp_1 for i in [4, 9, 11]]\n",
    "# print(Exp_1_4set)"
   ]
  },
  {
   "cell_type": "code",
   "execution_count": 78,
   "id": "f8716a94-265f-4f39-a873-e57b24b132d8",
   "metadata": {},
   "outputs": [],
   "source": [
    "# print(Exp_2)"
   ]
  },
  {
   "cell_type": "code",
   "execution_count": 79,
   "id": "5b9eab51-a5a0-4499-9a0a-f2eeb28a2f46",
   "metadata": {},
   "outputs": [],
   "source": [
    "# Exp_2_12set = [inner_list[i] for inner_list in Exp_2 for i in [2, 5, 9]] \n",
    "# print(Exp_2_12set)"
   ]
  },
  {
   "cell_type": "code",
   "execution_count": 80,
   "id": "02c3a027-4020-4e96-9f98-3eca3b9fbd3f",
   "metadata": {},
   "outputs": [],
   "source": [
    "# Exp_2_2set = [inner_list[i] for inner_list in Exp_2 for i in [3, 7, 11]]\n",
    "# print(Exp_2_2set)"
   ]
  },
  {
   "cell_type": "code",
   "execution_count": 81,
   "id": "12b64e5b-be4e-4e11-b601-51d25b727b56",
   "metadata": {},
   "outputs": [],
   "source": [
    "# Exp_2_3set = [inner_list[i] for inner_list in Exp_2 for i in [1, 4, 10]]\n",
    "# print(Exp_2_3set)"
   ]
  },
  {
   "cell_type": "code",
   "execution_count": 82,
   "id": "8cac8aff-110b-4672-9ef5-6cc82bc30ebe",
   "metadata": {},
   "outputs": [],
   "source": [
    "# Exp_2_4set = [inner_list[i] for inner_list in Exp_2 for i in [0, 6, 8]]\n",
    "# print(Exp_2_4set)"
   ]
  },
  {
   "cell_type": "code",
   "execution_count": 83,
   "id": "fbc24b50-871f-470a-8bd2-22aa6f38f098",
   "metadata": {},
   "outputs": [],
   "source": [
    "# print(Exp_3)"
   ]
  },
  {
   "cell_type": "code",
   "execution_count": 84,
   "id": "78e97abc-7dd9-4aff-9cd3-352e5b53c030",
   "metadata": {},
   "outputs": [],
   "source": [
    "# Exp_3_12set = [inner_list[i] for inner_list in Exp_3 for i in [1, 7, 10]]  \n",
    "# print(Exp_3_12set)"
   ]
  },
  {
   "cell_type": "code",
   "execution_count": 85,
   "id": "be9c9c03-f008-46d2-a34a-94b100fe9db3",
   "metadata": {},
   "outputs": [],
   "source": [
    "# Exp_3_2set = [inner_list[i] for inner_list in Exp_3 for i in [0, 4, 9]]\n",
    "# print(Exp_3_2set)"
   ]
  },
  {
   "cell_type": "code",
   "execution_count": 86,
   "id": "b4416baf-7509-4a85-b11a-93c503681961",
   "metadata": {},
   "outputs": [],
   "source": [
    "# Exp_3_3set = [inner_list[i] for inner_list in Exp_3  for i in [2, 5, 8]]\n",
    "# print(Exp_3_3set)"
   ]
  },
  {
   "cell_type": "code",
   "execution_count": 87,
   "id": "24d966ce-399c-4b8e-9f7e-77fba6663ef9",
   "metadata": {},
   "outputs": [],
   "source": [
    "# Exp_3_4set = [inner_list[i] for inner_list in Exp_3 for i in [3, 6, 11]]\n",
    "# print(Exp_3_4set)"
   ]
  },
  {
   "cell_type": "code",
   "execution_count": 66,
   "id": "361f5d4a-6f61-4e03-b7de-45a5f4adcfb2",
   "metadata": {},
   "outputs": [],
   "source": [
    "data = {\n",
    "    'Exp1_12': Exp_1_12set,\n",
    "    'Exp1_2': Exp_1_2set,\n",
    "    'Exp1_3': Exp_1_3set,\n",
    "    'Exp1_4': Exp_1_4set,\n",
    "    'Exp2_12': Exp_2_12set,\n",
    "    'Exp2_2': Exp_2_2set,\n",
    "    'Exp2_3': Exp_2_3set,\n",
    "    'Exp2_4': Exp_2_4set,\n",
    "    'Exp3_12': Exp_3_12set,\n",
    "    'Exp3_2': Exp_3_2set,\n",
    "    'Exp3_3': Exp_3_3set,\n",
    "    'Exp3_4': Exp_3_4set\n",
    "}"
   ]
  },
  {
   "cell_type": "code",
   "execution_count": 67,
   "id": "a5ba903d-9f61-4a25-819d-f78a4fc7b49e",
   "metadata": {},
   "outputs": [],
   "source": [
    "df = pd.DataFrame(data)"
   ]
  },
  {
   "cell_type": "code",
   "execution_count": 88,
   "id": "dd1319cb-420b-40c9-b769-61b03b9528a5",
   "metadata": {},
   "outputs": [
    {
     "name": "stdout",
     "output_type": "stream",
     "text": [
      "    Exp1_12  Exp1_2  Exp1_3  Exp1_4  Exp2_12  Exp2_2  Exp2_3  Exp2_4  Exp3_12  \\\n",
      "0        12      11      12       9        8       7      12      10        5   \n",
      "1        12      12      12       9       10       4       9       5        4   \n",
      "2         9       8      12      12        8      12       5      12        7   \n",
      "3        12       7      12      12       12      12      12      12        8   \n",
      "4        12      12      11      12       12      10      10      10       12   \n",
      "..      ...     ...     ...     ...      ...     ...     ...     ...      ...   \n",
      "85        8       2       7       8        8       8       5       8        4   \n",
      "86        6       8       9       8        9       1       9       7        4   \n",
      "87        6       4       4       8        5       9       9       8        7   \n",
      "88        6       3       6       7        9       6       8       5        6   \n",
      "89        6       8       6      11        9       9       6       8        7   \n",
      "\n",
      "    Exp3_2  Exp3_3  Exp3_4  \n",
      "0        5       9       8  \n",
      "1       10      12       9  \n",
      "2        4       9       8  \n",
      "3        6      10      10  \n",
      "4       11      12      11  \n",
      "..     ...     ...     ...  \n",
      "85       7       9       7  \n",
      "86       6       6       7  \n",
      "87      10       9       8  \n",
      "88      10       9       4  \n",
      "89       4       3       6  \n",
      "\n",
      "[90 rows x 12 columns]\n"
     ]
    }
   ],
   "source": [
    "print(df)"
   ]
  },
  {
   "cell_type": "code",
   "execution_count": 92,
   "id": "91249928-b766-4d7a-803a-1507fb2bde43",
   "metadata": {},
   "outputs": [
    {
     "name": "stdout",
     "output_type": "stream",
     "text": [
      "        Exp1_12     Exp1_2     Exp1_3     Exp1_4    Exp2_12     Exp2_2  \\\n",
      "mean   7.888889   7.677778   7.844444   8.077778   7.777778   7.988889   \n",
      "std    3.124547   2.697597   2.921871   2.640343   3.100481   2.810472   \n",
      "min    0.000000   2.000000   0.000000   0.000000   0.000000   1.000000   \n",
      "50%    8.000000   8.000000   8.000000   8.000000   8.000000   8.000000   \n",
      "max   12.000000  12.000000  12.000000  12.000000  12.000000  12.000000   \n",
      "\n",
      "         Exp2_3     Exp2_4    Exp3_12     Exp3_2     Exp3_3     Exp3_4  \n",
      "mean   7.866667   8.100000   7.322222   7.100000   7.600000   8.144444  \n",
      "std    2.627427   2.710985   2.847541   2.694355   2.967237   2.889583  \n",
      "min    3.000000   0.000000   0.000000   2.000000   0.000000   1.000000  \n",
      "50%    8.000000   8.000000   7.000000   6.000000   8.000000   8.000000  \n",
      "max   12.000000  12.000000  12.000000  12.000000  12.000000  12.000000  \n"
     ]
    }
   ],
   "source": [
    "descriptive_stat_all = df.describe()\n",
    "descriptive_stat_report = descriptive_stat_all.loc[['mean', 'std', 'min', '50%', 'max']]\n",
    "print(descriptive_stat_report)"
   ]
  },
  {
   "cell_type": "code",
   "execution_count": 98,
   "id": "6b826ffc-95bf-4a29-ba73-90378eb0cb67",
   "metadata": {},
   "outputs": [
    {
     "name": "stdout",
     "output_type": "stream",
     "text": [
      "      Exp1_12  Exp1_2  Exp1_3  Exp1_4  Exp2_12  Exp2_2  Exp2_3  Exp2_4  \\\n",
      "mean     7.89    7.68    7.84    8.08     7.78    7.99    7.87    8.10   \n",
      "std      3.12    2.70    2.92    2.64     3.10    2.81    2.63    2.71   \n",
      "min      0.00    2.00    0.00    0.00     0.00    1.00    3.00    0.00   \n",
      "50%      8.00    8.00    8.00    8.00     8.00    8.00    8.00    8.00   \n",
      "max     12.00   12.00   12.00   12.00    12.00   12.00   12.00   12.00   \n",
      "\n",
      "      Exp3_12  Exp3_2  Exp3_3  Exp3_4  \n",
      "mean     7.32    7.10    7.60    8.14  \n",
      "std      2.85    2.69    2.97    2.89  \n",
      "min      0.00    2.00    0.00    1.00  \n",
      "50%      7.00    6.00    8.00    8.00  \n",
      "max     12.00   12.00   12.00   12.00  \n"
     ]
    }
   ],
   "source": [
    "pd.set_option('display.precision', 2)\n",
    "print(descriptive_stat_report)"
   ]
  },
  {
   "cell_type": "code",
   "execution_count": null,
   "id": "79c1101f-ba57-4914-aef9-325bd1453d55",
   "metadata": {},
   "outputs": [],
   "source": []
  },
  {
   "cell_type": "code",
   "execution_count": null,
   "id": "3c5e58b7-7589-4185-9845-cb544297b495",
   "metadata": {},
   "outputs": [],
   "source": []
  },
  {
   "cell_type": "code",
   "execution_count": null,
   "id": "2ff2101e-4923-433d-ad30-d27deb2418bb",
   "metadata": {},
   "outputs": [],
   "source": []
  },
  {
   "cell_type": "code",
   "execution_count": null,
   "id": "53d51b32-fe28-4e80-9e35-ee8759b75acc",
   "metadata": {},
   "outputs": [],
   "source": []
  },
  {
   "cell_type": "code",
   "execution_count": null,
   "id": "c52b6cd7-a921-45be-b010-4b2c0f9beea5",
   "metadata": {},
   "outputs": [],
   "source": []
  },
  {
   "cell_type": "code",
   "execution_count": 96,
   "id": "c174acfe-081c-4b30-a9f0-59363f0f35f3",
   "metadata": {},
   "outputs": [
    {
     "name": "stdout",
     "output_type": "stream",
     "text": [
      "Defaulting to user installation because normal site-packages is not writeable\n",
      "Collecting scipy\n",
      "  Downloading scipy-1.11.4-cp39-cp39-macosx_12_0_arm64.whl.metadata (60 kB)\n",
      "\u001b[2K     \u001b[90m━━━━━━━━━━━━━━━━━━━━━━━━━━━━━━━━━━━━━━━━\u001b[0m \u001b[32m60.4/60.4 kB\u001b[0m \u001b[31m1.5 MB/s\u001b[0m eta \u001b[36m0:00:00\u001b[0m\n",
      "\u001b[?25hRequirement already satisfied: numpy<1.28.0,>=1.21.6 in /Users/wuyan/Library/Python/3.9/lib/python/site-packages (from scipy) (1.26.2)\n",
      "Downloading scipy-1.11.4-cp39-cp39-macosx_12_0_arm64.whl (29.7 MB)\n",
      "\u001b[2K   \u001b[90m━━━━━━━━━━━━━━━━━━━━━━━━━━━━━━━━━━━━━━━━\u001b[0m \u001b[32m29.7/29.7 MB\u001b[0m \u001b[31m1.7 MB/s\u001b[0m eta \u001b[36m0:00:00\u001b[0m00:01\u001b[0m00:01\u001b[0m\n",
      "\u001b[?25hInstalling collected packages: scipy\n",
      "Successfully installed scipy-1.11.4\n"
     ]
    }
   ],
   "source": [
    "!pip install scipy"
   ]
  },
  {
   "cell_type": "code",
   "execution_count": 97,
   "id": "177d285e-f1e6-44f9-af19-7ce6ef6c2ce2",
   "metadata": {},
   "outputs": [],
   "source": [
    "from scipy.stats import ttest_rel"
   ]
  },
  {
   "cell_type": "code",
   "execution_count": null,
   "id": "13f84c23-2a2d-4190-86cb-7599120e2f12",
   "metadata": {},
   "outputs": [],
   "source": [
    "# "
   ]
  },
  {
   "cell_type": "code",
   "execution_count": 100,
   "id": "7e6500e4-6f81-4dd6-92fa-a14895214757",
   "metadata": {},
   "outputs": [
    {
     "name": "stdout",
     "output_type": "stream",
     "text": [
      "                  Test   P-Value\n",
      "0   Exp1_12 vs Exp2_12  7.63e-01\n",
      "1   Exp1_12 vs Exp3_12  1.18e-01\n",
      "2   Exp2_12 vs Exp3_12  1.51e-01\n",
      "3     Exp1_2 vs Exp2_2  3.90e-01\n",
      "4     Exp1_2 vs Exp3_2  1.14e-01\n",
      "5     Exp2_2 vs Exp3_2  4.05e-03\n",
      "6     Exp1_3 vs Exp2_3  9.54e-01\n",
      "7     Exp1_3 vs Exp3_3  4.84e-01\n",
      "8     Exp2_3 vs Exp3_3  3.77e-01\n",
      "9     Exp1_4 vs Exp2_4  9.47e-01\n",
      "10    Exp1_4 vs Exp3_4  8.37e-01\n",
      "11    Exp2_4 vs Exp3_4  8.85e-01\n"
     ]
    }
   ],
   "source": [
    "p_values = {}\n",
    "\n",
    "grouping_formats = ['12', '2', '3', '4']\n",
    "conditions = ['Exp1_', 'Exp2_', 'Exp3_']\n",
    "\n",
    "for group in grouping_formats:\n",
    "    for i in range(len(conditions)):\n",
    "        for j in range(i+1, len(conditions)):\n",
    "            col1 = conditions[i] + group\n",
    "            col2 = conditions[j] + group\n",
    "            stat, p = ttest_rel(df[col1], df[col2], nan_policy='omit')\n",
    "            p_values[f'{col1} vs {col2}'] = p\n",
    "            \n",
    "p_values_df = pd.DataFrame(list(p_values.items()), columns=['Test', 'P-Value'])\n",
    "\n",
    "print(p_values_df)"
   ]
  },
  {
   "cell_type": "code",
   "execution_count": 102,
   "id": "3b9dd007-ee70-42b8-b0aa-70d6320a1499",
   "metadata": {},
   "outputs": [
    {
     "name": "stdout",
     "output_type": "stream",
     "text": [
      "                  Test   P-Value\n",
      "0   Exp1_12 vs Exp2_12  7.51e-01\n",
      "1   Exp1_12 vs Exp3_12  9.82e-02\n",
      "2   Exp2_12 vs Exp3_12  1.39e-01\n",
      "3     Exp1_2 vs Exp2_2  3.16e-01\n",
      "4     Exp1_2 vs Exp3_2  6.53e-02\n",
      "5     Exp2_2 vs Exp3_2  3.31e-03\n",
      "6     Exp1_3 vs Exp2_3  9.03e-01\n",
      "7     Exp1_3 vs Exp3_3  3.83e-01\n",
      "8     Exp2_3 vs Exp3_3  5.61e-01\n",
      "9     Exp1_4 vs Exp2_4  7.65e-01\n",
      "10    Exp1_4 vs Exp3_4  8.44e-01\n",
      "11    Exp2_4 vs Exp3_4  9.92e-01\n"
     ]
    }
   ],
   "source": [
    "# Wilcoxon signed-rank test, which is a non-parametric test that does not assume normality or equality of variances.\n",
    "\n",
    "# from scipy.stats import wilcoxon\n",
    "\n",
    "# p_values_wilcoxon = {}\n",
    "\n",
    "# for group in grouping_formats:\n",
    "#     for i in range(len(conditions)):\n",
    "#         for j in range(i+1, len(conditions)):\n",
    "#             col1 = conditions[i] + group\n",
    "#             col2 = conditions[j] + group\n",
    "            \n",
    "#             stat, p = wilcoxon(df[col1], df[col2])\n",
    "            \n",
    "#             p_values_wilcoxon[f'{col1} vs {col2}'] = p\n",
    "            \n",
    "# p_values_wilcoxon_df = pd.DataFrame(list(p_values_wilcoxon.items()), columns=['Test', 'P-Value'])\n",
    "\n",
    "# print(p_values_wilcoxon_df)"
   ]
  },
  {
   "cell_type": "code",
   "execution_count": 105,
   "id": "8ece51f1-f4ba-4611-a431-6a9e09d1d1aa",
   "metadata": {},
   "outputs": [
    {
     "name": "stdout",
     "output_type": "stream",
     "text": [
      "                 Test   P-Value\n",
      "0   Exp1_12 vs Exp1_2  5.60e-01\n",
      "1   Exp1_12 vs Exp1_3  9.03e-01\n",
      "2   Exp1_12 vs Exp1_4  5.89e-01\n",
      "3    Exp1_2 vs Exp1_3  6.35e-01\n",
      "4    Exp1_2 vs Exp1_4  2.12e-01\n",
      "5    Exp1_3 vs Exp1_4  5.12e-01\n",
      "6   Exp2_12 vs Exp2_2  5.20e-01\n",
      "7   Exp2_12 vs Exp2_3  7.92e-01\n",
      "8   Exp2_12 vs Exp2_4  3.52e-01\n",
      "9    Exp2_2 vs Exp2_3  7.06e-01\n",
      "10   Exp2_2 vs Exp2_4  6.73e-01\n",
      "11   Exp2_3 vs Exp2_4  4.89e-01\n",
      "12  Exp3_12 vs Exp3_2  3.96e-01\n",
      "13  Exp3_12 vs Exp3_3  3.70e-01\n",
      "14  Exp3_12 vs Exp3_4  1.57e-03\n",
      "15   Exp3_2 vs Exp3_3  9.07e-02\n",
      "16   Exp3_2 vs Exp3_4  1.85e-04\n",
      "17   Exp3_3 vs Exp3_4  3.85e-02\n"
     ]
    }
   ],
   "source": [
    "p_values_within_group = {}\n",
    "\n",
    "groupings = ['12', '2', '3', '4']\n",
    "experiments = ['Exp1_', 'Exp2_', 'Exp3_']\n",
    "\n",
    "for exp in experiments:\n",
    "    for i in range(len(groupings)):\n",
    "        for j in range(i+1, len(groupings)):\n",
    "            group1 = exp + groupings[i]\n",
    "            group2 = exp + groupings[j]\n",
    "                \n",
    "            stat, p = ttest_rel(df[group1], df[group2], nan_policy='omit')\n",
    "                \n",
    "            p_values_within_group[f'{group1} vs {group2}'] = p\n",
    "\n",
    "p_values_within_group_df = pd.DataFrame(list(p_values_within_group.items()), columns=['Test', 'P-Value'])\n",
    "print(p_values_within_group_df)                "
   ]
  },
  {
   "cell_type": "code",
   "execution_count": null,
   "id": "45c40ee6-5c65-49c3-b7bd-37a05b5b5462",
   "metadata": {},
   "outputs": [],
   "source": []
  }
 ],
 "metadata": {
  "kernelspec": {
   "display_name": "Python 3 (ipykernel)",
   "language": "python",
   "name": "python3"
  },
  "language_info": {
   "codemirror_mode": {
    "name": "ipython",
    "version": 3
   },
   "file_extension": ".py",
   "mimetype": "text/x-python",
   "name": "python",
   "nbconvert_exporter": "python",
   "pygments_lexer": "ipython3",
   "version": "3.9.6"
  }
 },
 "nbformat": 4,
 "nbformat_minor": 5
}
